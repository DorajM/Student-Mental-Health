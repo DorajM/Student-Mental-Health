{
 "cells": [
  {
   "cell_type": "code",
   "execution_count": 1,
   "id": "a6612e64",
   "metadata": {
    "execution": {
     "iopub.execute_input": "2022-06-13T05:46:23.807043Z",
     "iopub.status.busy": "2022-06-13T05:46:23.806105Z",
     "iopub.status.idle": "2022-06-13T05:46:24.907064Z",
     "shell.execute_reply": "2022-06-13T05:46:24.906021Z"
    },
    "papermill": {
     "duration": 1.117928,
     "end_time": "2022-06-13T05:46:24.909684",
     "exception": false,
     "start_time": "2022-06-13T05:46:23.791756",
     "status": "completed"
    },
    "tags": []
   },
   "outputs": [],
   "source": [
    "import pandas as pd\n",
    "import seaborn as sns\n",
    "import numpy as np\n",
    "import matplotlib.pyplot as plt"
   ]
  },
  {
   "cell_type": "code",
   "execution_count": 2,
   "id": "6accf85c",
   "metadata": {
    "execution": {
     "iopub.execute_input": "2022-06-13T05:46:24.932440Z",
     "iopub.status.busy": "2022-06-13T05:46:24.931966Z",
     "iopub.status.idle": "2022-06-13T05:46:24.974466Z",
     "shell.execute_reply": "2022-06-13T05:46:24.973176Z"
    },
    "papermill": {
     "duration": 0.05699,
     "end_time": "2022-06-13T05:46:24.977238",
     "exception": false,
     "start_time": "2022-06-13T05:46:24.920248",
     "status": "completed"
    },
    "tags": []
   },
   "outputs": [
    {
     "data": {
      "text/html": [
       "<div>\n",
       "<style scoped>\n",
       "    .dataframe tbody tr th:only-of-type {\n",
       "        vertical-align: middle;\n",
       "    }\n",
       "\n",
       "    .dataframe tbody tr th {\n",
       "        vertical-align: top;\n",
       "    }\n",
       "\n",
       "    .dataframe thead th {\n",
       "        text-align: right;\n",
       "    }\n",
       "</style>\n",
       "<table border=\"1\" class=\"dataframe\">\n",
       "  <thead>\n",
       "    <tr style=\"text-align: right;\">\n",
       "      <th></th>\n",
       "      <th>Timestamp</th>\n",
       "      <th>Choose your gender</th>\n",
       "      <th>Age</th>\n",
       "      <th>What is your course?</th>\n",
       "      <th>Your current year of Study</th>\n",
       "      <th>What is your CGPA?</th>\n",
       "      <th>Marital status</th>\n",
       "      <th>Do you have Depression?</th>\n",
       "      <th>Do you have Anxiety?</th>\n",
       "      <th>Do you have Panic attack?</th>\n",
       "      <th>Did you seek any specialist for a treatment?</th>\n",
       "    </tr>\n",
       "  </thead>\n",
       "  <tbody>\n",
       "    <tr>\n",
       "      <th>0</th>\n",
       "      <td>8/7/2020 12:02</td>\n",
       "      <td>Female</td>\n",
       "      <td>18.0</td>\n",
       "      <td>Engineering</td>\n",
       "      <td>year 1</td>\n",
       "      <td>3.00 - 3.49</td>\n",
       "      <td>No</td>\n",
       "      <td>Yes</td>\n",
       "      <td>No</td>\n",
       "      <td>Yes</td>\n",
       "      <td>No</td>\n",
       "    </tr>\n",
       "    <tr>\n",
       "      <th>1</th>\n",
       "      <td>8/7/2020 12:04</td>\n",
       "      <td>Male</td>\n",
       "      <td>21.0</td>\n",
       "      <td>Islamic education</td>\n",
       "      <td>year 2</td>\n",
       "      <td>3.00 - 3.49</td>\n",
       "      <td>No</td>\n",
       "      <td>No</td>\n",
       "      <td>Yes</td>\n",
       "      <td>No</td>\n",
       "      <td>No</td>\n",
       "    </tr>\n",
       "    <tr>\n",
       "      <th>2</th>\n",
       "      <td>8/7/2020 12:05</td>\n",
       "      <td>Male</td>\n",
       "      <td>19.0</td>\n",
       "      <td>BIT</td>\n",
       "      <td>Year 1</td>\n",
       "      <td>3.00 - 3.49</td>\n",
       "      <td>No</td>\n",
       "      <td>Yes</td>\n",
       "      <td>Yes</td>\n",
       "      <td>Yes</td>\n",
       "      <td>No</td>\n",
       "    </tr>\n",
       "    <tr>\n",
       "      <th>3</th>\n",
       "      <td>8/7/2020 12:06</td>\n",
       "      <td>Female</td>\n",
       "      <td>22.0</td>\n",
       "      <td>Laws</td>\n",
       "      <td>year 3</td>\n",
       "      <td>3.00 - 3.49</td>\n",
       "      <td>Yes</td>\n",
       "      <td>Yes</td>\n",
       "      <td>No</td>\n",
       "      <td>No</td>\n",
       "      <td>No</td>\n",
       "    </tr>\n",
       "    <tr>\n",
       "      <th>4</th>\n",
       "      <td>8/7/2020 12:13</td>\n",
       "      <td>Male</td>\n",
       "      <td>23.0</td>\n",
       "      <td>Mathemathics</td>\n",
       "      <td>year 4</td>\n",
       "      <td>3.00 - 3.49</td>\n",
       "      <td>No</td>\n",
       "      <td>No</td>\n",
       "      <td>No</td>\n",
       "      <td>No</td>\n",
       "      <td>No</td>\n",
       "    </tr>\n",
       "  </tbody>\n",
       "</table>\n",
       "</div>"
      ],
      "text/plain": [
       "        Timestamp Choose your gender   Age What is your course?  \\\n",
       "0  8/7/2020 12:02             Female  18.0          Engineering   \n",
       "1  8/7/2020 12:04               Male  21.0    Islamic education   \n",
       "2  8/7/2020 12:05               Male  19.0                  BIT   \n",
       "3  8/7/2020 12:06             Female  22.0                 Laws   \n",
       "4  8/7/2020 12:13               Male  23.0         Mathemathics   \n",
       "\n",
       "  Your current year of Study What is your CGPA? Marital status  \\\n",
       "0                     year 1        3.00 - 3.49             No   \n",
       "1                     year 2        3.00 - 3.49             No   \n",
       "2                     Year 1        3.00 - 3.49             No   \n",
       "3                     year 3        3.00 - 3.49            Yes   \n",
       "4                     year 4        3.00 - 3.49             No   \n",
       "\n",
       "  Do you have Depression? Do you have Anxiety? Do you have Panic attack?  \\\n",
       "0                     Yes                   No                       Yes   \n",
       "1                      No                  Yes                        No   \n",
       "2                     Yes                  Yes                       Yes   \n",
       "3                     Yes                   No                        No   \n",
       "4                      No                   No                        No   \n",
       "\n",
       "  Did you seek any specialist for a treatment?  \n",
       "0                                           No  \n",
       "1                                           No  \n",
       "2                                           No  \n",
       "3                                           No  \n",
       "4                                           No  "
      ]
     },
     "execution_count": 2,
     "metadata": {},
     "output_type": "execute_result"
    }
   ],
   "source": [
    "df = pd.read_csv(\"../input/student-mental-health/Student Mental health.csv\")\n",
    "df.head()"
   ]
  },
  {
   "cell_type": "code",
   "execution_count": 3,
   "id": "0a9c25e5",
   "metadata": {
    "execution": {
     "iopub.execute_input": "2022-06-13T05:46:25.001762Z",
     "iopub.status.busy": "2022-06-13T05:46:25.001379Z",
     "iopub.status.idle": "2022-06-13T05:46:25.005620Z",
     "shell.execute_reply": "2022-06-13T05:46:25.004566Z"
    },
    "papermill": {
     "duration": 0.01832,
     "end_time": "2022-06-13T05:46:25.007420",
     "exception": false,
     "start_time": "2022-06-13T05:46:24.989100",
     "status": "completed"
    },
    "tags": []
   },
   "outputs": [],
   "source": [
    "# Data Analysis"
   ]
  },
  {
   "cell_type": "code",
   "execution_count": 4,
   "id": "1bb0a09c",
   "metadata": {
    "execution": {
     "iopub.execute_input": "2022-06-13T05:46:25.031431Z",
     "iopub.status.busy": "2022-06-13T05:46:25.030269Z",
     "iopub.status.idle": "2022-06-13T05:46:25.055269Z",
     "shell.execute_reply": "2022-06-13T05:46:25.054335Z"
    },
    "papermill": {
     "duration": 0.039495,
     "end_time": "2022-06-13T05:46:25.057731",
     "exception": false,
     "start_time": "2022-06-13T05:46:25.018236",
     "status": "completed"
    },
    "tags": []
   },
   "outputs": [
    {
     "name": "stdout",
     "output_type": "stream",
     "text": [
      "<class 'pandas.core.frame.DataFrame'>\n",
      "RangeIndex: 101 entries, 0 to 100\n",
      "Data columns (total 11 columns):\n",
      " #   Column                                        Non-Null Count  Dtype  \n",
      "---  ------                                        --------------  -----  \n",
      " 0   Timestamp                                     101 non-null    object \n",
      " 1   Choose your gender                            101 non-null    object \n",
      " 2   Age                                           100 non-null    float64\n",
      " 3   What is your course?                          101 non-null    object \n",
      " 4   Your current year of Study                    101 non-null    object \n",
      " 5   What is your CGPA?                            101 non-null    object \n",
      " 6   Marital status                                101 non-null    object \n",
      " 7   Do you have Depression?                       101 non-null    object \n",
      " 8   Do you have Anxiety?                          101 non-null    object \n",
      " 9   Do you have Panic attack?                     101 non-null    object \n",
      " 10  Did you seek any specialist for a treatment?  101 non-null    object \n",
      "dtypes: float64(1), object(10)\n",
      "memory usage: 8.8+ KB\n"
     ]
    }
   ],
   "source": [
    "df.info()"
   ]
  },
  {
   "cell_type": "code",
   "execution_count": 5,
   "id": "774ced0e",
   "metadata": {
    "execution": {
     "iopub.execute_input": "2022-06-13T05:46:25.081936Z",
     "iopub.status.busy": "2022-06-13T05:46:25.081498Z",
     "iopub.status.idle": "2022-06-13T05:46:25.088117Z",
     "shell.execute_reply": "2022-06-13T05:46:25.087221Z"
    },
    "papermill": {
     "duration": 0.021545,
     "end_time": "2022-06-13T05:46:25.090203",
     "exception": false,
     "start_time": "2022-06-13T05:46:25.068658",
     "status": "completed"
    },
    "tags": []
   },
   "outputs": [
    {
     "data": {
      "text/plain": [
       "(101, 11)"
      ]
     },
     "execution_count": 5,
     "metadata": {},
     "output_type": "execute_result"
    }
   ],
   "source": [
    "#Checking Rows and Columns\n",
    "df.shape"
   ]
  },
  {
   "cell_type": "code",
   "execution_count": 6,
   "id": "f6021358",
   "metadata": {
    "execution": {
     "iopub.execute_input": "2022-06-13T05:46:25.113448Z",
     "iopub.status.busy": "2022-06-13T05:46:25.113006Z",
     "iopub.status.idle": "2022-06-13T05:46:25.122065Z",
     "shell.execute_reply": "2022-06-13T05:46:25.120717Z"
    },
    "papermill": {
     "duration": 0.023131,
     "end_time": "2022-06-13T05:46:25.124066",
     "exception": false,
     "start_time": "2022-06-13T05:46:25.100935",
     "status": "completed"
    },
    "tags": []
   },
   "outputs": [
    {
     "data": {
      "text/plain": [
       "Timestamp                                       0\n",
       "Choose your gender                              0\n",
       "Age                                             1\n",
       "What is your course?                            0\n",
       "Your current year of Study                      0\n",
       "What is your CGPA?                              0\n",
       "Marital status                                  0\n",
       "Do you have Depression?                         0\n",
       "Do you have Anxiety?                            0\n",
       "Do you have Panic attack?                       0\n",
       "Did you seek any specialist for a treatment?    0\n",
       "dtype: int64"
      ]
     },
     "execution_count": 6,
     "metadata": {},
     "output_type": "execute_result"
    }
   ],
   "source": [
    "#Checking missing value\n",
    "df.isnull().sum()"
   ]
  },
  {
   "cell_type": "code",
   "execution_count": 7,
   "id": "a0fce183",
   "metadata": {
    "execution": {
     "iopub.execute_input": "2022-06-13T05:46:25.147330Z",
     "iopub.status.busy": "2022-06-13T05:46:25.146898Z",
     "iopub.status.idle": "2022-06-13T05:46:25.165023Z",
     "shell.execute_reply": "2022-06-13T05:46:25.164168Z"
    },
    "papermill": {
     "duration": 0.031993,
     "end_time": "2022-06-13T05:46:25.166939",
     "exception": false,
     "start_time": "2022-06-13T05:46:25.134946",
     "status": "completed"
    },
    "tags": []
   },
   "outputs": [
    {
     "data": {
      "text/html": [
       "<div>\n",
       "<style scoped>\n",
       "    .dataframe tbody tr th:only-of-type {\n",
       "        vertical-align: middle;\n",
       "    }\n",
       "\n",
       "    .dataframe tbody tr th {\n",
       "        vertical-align: top;\n",
       "    }\n",
       "\n",
       "    .dataframe thead th {\n",
       "        text-align: right;\n",
       "    }\n",
       "</style>\n",
       "<table border=\"1\" class=\"dataframe\">\n",
       "  <thead>\n",
       "    <tr style=\"text-align: right;\">\n",
       "      <th></th>\n",
       "      <th>Timestamp</th>\n",
       "      <th>Choose your gender</th>\n",
       "      <th>Age</th>\n",
       "      <th>What is your course?</th>\n",
       "      <th>Your current year of Study</th>\n",
       "      <th>What is your CGPA?</th>\n",
       "      <th>Marital status</th>\n",
       "      <th>Do you have Depression?</th>\n",
       "      <th>Do you have Anxiety?</th>\n",
       "      <th>Do you have Panic attack?</th>\n",
       "      <th>Did you seek any specialist for a treatment?</th>\n",
       "    </tr>\n",
       "  </thead>\n",
       "  <tbody>\n",
       "    <tr>\n",
       "      <th>43</th>\n",
       "      <td>8/7/2020 15:07</td>\n",
       "      <td>Male</td>\n",
       "      <td>NaN</td>\n",
       "      <td>BIT</td>\n",
       "      <td>year 1</td>\n",
       "      <td>0 - 1.99</td>\n",
       "      <td>No</td>\n",
       "      <td>No</td>\n",
       "      <td>No</td>\n",
       "      <td>No</td>\n",
       "      <td>No</td>\n",
       "    </tr>\n",
       "  </tbody>\n",
       "</table>\n",
       "</div>"
      ],
      "text/plain": [
       "         Timestamp Choose your gender  Age What is your course?  \\\n",
       "43  8/7/2020 15:07               Male  NaN                  BIT   \n",
       "\n",
       "   Your current year of Study What is your CGPA? Marital status  \\\n",
       "43                     year 1           0 - 1.99             No   \n",
       "\n",
       "   Do you have Depression? Do you have Anxiety? Do you have Panic attack?  \\\n",
       "43                      No                   No                        No   \n",
       "\n",
       "   Did you seek any specialist for a treatment?  \n",
       "43                                           No  "
      ]
     },
     "execution_count": 7,
     "metadata": {},
     "output_type": "execute_result"
    }
   ],
   "source": [
    "#Finding the missing value\n",
    "df[df.isna().any(axis=1)]"
   ]
  },
  {
   "cell_type": "code",
   "execution_count": 8,
   "id": "e1584a8b",
   "metadata": {
    "execution": {
     "iopub.execute_input": "2022-06-13T05:46:25.191020Z",
     "iopub.status.busy": "2022-06-13T05:46:25.190332Z",
     "iopub.status.idle": "2022-06-13T05:46:25.324644Z",
     "shell.execute_reply": "2022-06-13T05:46:25.323672Z"
    },
    "papermill": {
     "duration": 0.14846,
     "end_time": "2022-06-13T05:46:25.326805",
     "exception": false,
     "start_time": "2022-06-13T05:46:25.178345",
     "status": "completed"
    },
    "tags": []
   },
   "outputs": [
    {
     "name": "stderr",
     "output_type": "stream",
     "text": [
      "/opt/conda/lib/python3.7/site-packages/seaborn/_decorators.py:43: FutureWarning: Pass the following variable as a keyword arg: x. From version 0.12, the only valid positional argument will be `data`, and passing other arguments without an explicit keyword will result in an error or misinterpretation.\n",
      "  FutureWarning\n"
     ]
    },
    {
     "data": {
      "text/plain": [
       "<AxesSubplot:xlabel='Age'>"
      ]
     },
     "execution_count": 8,
     "metadata": {},
     "output_type": "execute_result"
    },
    {
     "data": {
      "image/png": "[encoded data removed]",
      "text/plain": [
       "<Figure size 432x288 with 1 Axes>"
      ]
     },
     "metadata": {
      "needs_background": "light"
     },
     "output_type": "display_data"
    }
   ],
   "source": [
    "#Outliers detection for the Age column\n",
    "sns.boxplot('Age',data = df)"
   ]
  },
  {
   "cell_type": "code",
   "execution_count": 9,
   "id": "b5d2912b",
   "metadata": {
    "execution": {
     "iopub.execute_input": "2022-06-13T05:46:25.352014Z",
     "iopub.status.busy": "2022-06-13T05:46:25.351045Z",
     "iopub.status.idle": "2022-06-13T05:46:25.357116Z",
     "shell.execute_reply": "2022-06-13T05:46:25.356452Z"
    },
    "papermill": {
     "duration": 0.020539,
     "end_time": "2022-06-13T05:46:25.358993",
     "exception": false,
     "start_time": "2022-06-13T05:46:25.338454",
     "status": "completed"
    },
    "tags": []
   },
   "outputs": [],
   "source": [
    "#Replacing the missing value with mean & also the type \n",
    "df['Age'].fillna(df['Age'].mean(),inplace=True)\n",
    "df['Age'] = df[\"Age\"].astype(int)"
   ]
  },
  {
   "cell_type": "code",
   "execution_count": 10,
   "id": "081fb298",
   "metadata": {
    "execution": {
     "iopub.execute_input": "2022-06-13T05:46:25.383013Z",
     "iopub.status.busy": "2022-06-13T05:46:25.382570Z",
     "iopub.status.idle": "2022-06-13T05:46:25.391728Z",
     "shell.execute_reply": "2022-06-13T05:46:25.390668Z"
    },
    "papermill": {
     "duration": 0.023094,
     "end_time": "2022-06-13T05:46:25.393323",
     "exception": false,
     "start_time": "2022-06-13T05:46:25.370229",
     "status": "completed"
    },
    "tags": []
   },
   "outputs": [
    {
     "data": {
      "text/plain": [
       "Timestamp                                       92\n",
       "Choose your gender                               2\n",
       "Age                                              7\n",
       "What is your course?                            49\n",
       "Your current year of Study                       7\n",
       "What is your CGPA?                               6\n",
       "Marital status                                   2\n",
       "Do you have Depression?                          2\n",
       "Do you have Anxiety?                             2\n",
       "Do you have Panic attack?                        2\n",
       "Did you seek any specialist for a treatment?     2\n",
       "dtype: int64"
      ]
     },
     "execution_count": 10,
     "metadata": {},
     "output_type": "execute_result"
    }
   ],
   "source": [
    "df.nunique()"
   ]
  },
  {
   "cell_type": "code",
   "execution_count": 11,
   "id": "a1a779b8",
   "metadata": {
    "execution": {
     "iopub.execute_input": "2022-06-13T05:46:25.417448Z",
     "iopub.status.busy": "2022-06-13T05:46:25.416803Z",
     "iopub.status.idle": "2022-06-13T05:46:25.422633Z",
     "shell.execute_reply": "2022-06-13T05:46:25.421279Z"
    },
    "papermill": {
     "duration": 0.020071,
     "end_time": "2022-06-13T05:46:25.424476",
     "exception": false,
     "start_time": "2022-06-13T05:46:25.404405",
     "status": "completed"
    },
    "tags": []
   },
   "outputs": [],
   "source": [
    "#Removing Timestamp column as it is not necessary\n",
    "df.drop(['Timestamp'], axis = 1, inplace=True)"
   ]
  },
  {
   "cell_type": "code",
   "execution_count": 12,
   "id": "b74700ad",
   "metadata": {
    "execution": {
     "iopub.execute_input": "2022-06-13T05:46:25.448919Z",
     "iopub.status.busy": "2022-06-13T05:46:25.448263Z",
     "iopub.status.idle": "2022-06-13T05:46:25.463289Z",
     "shell.execute_reply": "2022-06-13T05:46:25.462337Z"
    },
    "papermill": {
     "duration": 0.029335,
     "end_time": "2022-06-13T05:46:25.465091",
     "exception": false,
     "start_time": "2022-06-13T05:46:25.435756",
     "status": "completed"
    },
    "tags": []
   },
   "outputs": [
    {
     "data": {
      "text/html": [
       "<div>\n",
       "<style scoped>\n",
       "    .dataframe tbody tr th:only-of-type {\n",
       "        vertical-align: middle;\n",
       "    }\n",
       "\n",
       "    .dataframe tbody tr th {\n",
       "        vertical-align: top;\n",
       "    }\n",
       "\n",
       "    .dataframe thead th {\n",
       "        text-align: right;\n",
       "    }\n",
       "</style>\n",
       "<table border=\"1\" class=\"dataframe\">\n",
       "  <thead>\n",
       "    <tr style=\"text-align: right;\">\n",
       "      <th></th>\n",
       "      <th>Gender</th>\n",
       "      <th>Age</th>\n",
       "      <th>Course</th>\n",
       "      <th>Year Study</th>\n",
       "      <th>CGPA</th>\n",
       "      <th>Marital</th>\n",
       "      <th>Depression</th>\n",
       "      <th>Anxiety</th>\n",
       "      <th>Panic Attack</th>\n",
       "      <th>Treatment</th>\n",
       "    </tr>\n",
       "  </thead>\n",
       "  <tbody>\n",
       "    <tr>\n",
       "      <th>0</th>\n",
       "      <td>Female</td>\n",
       "      <td>18</td>\n",
       "      <td>Engineering</td>\n",
       "      <td>year 1</td>\n",
       "      <td>3.00 - 3.49</td>\n",
       "      <td>No</td>\n",
       "      <td>Yes</td>\n",
       "      <td>No</td>\n",
       "      <td>Yes</td>\n",
       "      <td>No</td>\n",
       "    </tr>\n",
       "    <tr>\n",
       "      <th>1</th>\n",
       "      <td>Male</td>\n",
       "      <td>21</td>\n",
       "      <td>Islamic education</td>\n",
       "      <td>year 2</td>\n",
       "      <td>3.00 - 3.49</td>\n",
       "      <td>No</td>\n",
       "      <td>No</td>\n",
       "      <td>Yes</td>\n",
       "      <td>No</td>\n",
       "      <td>No</td>\n",
       "    </tr>\n",
       "    <tr>\n",
       "      <th>2</th>\n",
       "      <td>Male</td>\n",
       "      <td>19</td>\n",
       "      <td>BIT</td>\n",
       "      <td>Year 1</td>\n",
       "      <td>3.00 - 3.49</td>\n",
       "      <td>No</td>\n",
       "      <td>Yes</td>\n",
       "      <td>Yes</td>\n",
       "      <td>Yes</td>\n",
       "      <td>No</td>\n",
       "    </tr>\n",
       "    <tr>\n",
       "      <th>3</th>\n",
       "      <td>Female</td>\n",
       "      <td>22</td>\n",
       "      <td>Laws</td>\n",
       "      <td>year 3</td>\n",
       "      <td>3.00 - 3.49</td>\n",
       "      <td>Yes</td>\n",
       "      <td>Yes</td>\n",
       "      <td>No</td>\n",
       "      <td>No</td>\n",
       "      <td>No</td>\n",
       "    </tr>\n",
       "    <tr>\n",
       "      <th>4</th>\n",
       "      <td>Male</td>\n",
       "      <td>23</td>\n",
       "      <td>Mathemathics</td>\n",
       "      <td>year 4</td>\n",
       "      <td>3.00 - 3.49</td>\n",
       "      <td>No</td>\n",
       "      <td>No</td>\n",
       "      <td>No</td>\n",
       "      <td>No</td>\n",
       "      <td>No</td>\n",
       "    </tr>\n",
       "  </tbody>\n",
       "</table>\n",
       "</div>"
      ],
      "text/plain": [
       "   Gender  Age             Course Year Study         CGPA Marital Depression  \\\n",
       "0  Female   18        Engineering     year 1  3.00 - 3.49      No        Yes   \n",
       "1    Male   21  Islamic education     year 2  3.00 - 3.49      No         No   \n",
       "2    Male   19                BIT     Year 1  3.00 - 3.49      No        Yes   \n",
       "3  Female   22               Laws     year 3  3.00 - 3.49     Yes        Yes   \n",
       "4    Male   23       Mathemathics     year 4  3.00 - 3.49      No         No   \n",
       "\n",
       "  Anxiety Panic Attack Treatment  \n",
       "0      No          Yes        No  \n",
       "1     Yes           No        No  \n",
       "2     Yes          Yes        No  \n",
       "3      No           No        No  \n",
       "4      No           No        No  "
      ]
     },
     "execution_count": 12,
     "metadata": {},
     "output_type": "execute_result"
    }
   ],
   "source": [
    "#Renaming columns\n",
    "df_column = {'Choose your gender':'Gender','What is your course?':'Course',\n",
    "             'Your current year of Study':'Year Study','What is your CGPA?':'CGPA',\n",
    "             'Do you have Depression?':'Depression', 'Marital status':'Marital',\n",
    "             'Do you have Anxiety?':'Anxiety', 'Do you have Panic attack?':'Panic Attack',\n",
    "             'Did you seek any specialist for a treatment?':'Treatment'}\n",
    "df.rename(columns=df_column,inplace=True)\n",
    "df.head()"
   ]
  },
  {
   "cell_type": "code",
   "execution_count": 13,
   "id": "b2e16663",
   "metadata": {
    "execution": {
     "iopub.execute_input": "2022-06-13T05:46:25.490389Z",
     "iopub.status.busy": "2022-06-13T05:46:25.489793Z",
     "iopub.status.idle": "2022-06-13T05:46:25.495943Z",
     "shell.execute_reply": "2022-06-13T05:46:25.495341Z"
    },
    "papermill": {
     "duration": 0.020982,
     "end_time": "2022-06-13T05:46:25.497463",
     "exception": false,
     "start_time": "2022-06-13T05:46:25.476481",
     "status": "completed"
    },
    "tags": []
   },
   "outputs": [
    {
     "data": {
      "text/plain": [
       "Index(['3.50 - 4.00', '3.00 - 3.49', '2.50 - 2.99', '0 - 1.99', '2.00 - 2.49',\n",
       "       '3.50 - 4.00 '],\n",
       "      dtype='object')"
      ]
     },
     "execution_count": 13,
     "metadata": {},
     "output_type": "execute_result"
    }
   ],
   "source": [
    "#Giving an order to the CGPA Column\n",
    "df['CGPA'].value_counts().index"
   ]
  },
  {
   "cell_type": "code",
   "execution_count": 14,
   "id": "008444f3",
   "metadata": {
    "execution": {
     "iopub.execute_input": "2022-06-13T05:46:25.522244Z",
     "iopub.status.busy": "2022-06-13T05:46:25.521663Z",
     "iopub.status.idle": "2022-06-13T05:46:25.526740Z",
     "shell.execute_reply": "2022-06-13T05:46:25.525786Z"
    },
    "papermill": {
     "duration": 0.020095,
     "end_time": "2022-06-13T05:46:25.528808",
     "exception": false,
     "start_time": "2022-06-13T05:46:25.508713",
     "status": "completed"
    },
    "tags": []
   },
   "outputs": [],
   "source": [
    "#Lets first fix the space in 3.50-4.00\n",
    "df['CGPA'] = df['CGPA'].apply(lambda x: x.strip())"
   ]
  },
  {
   "cell_type": "code",
   "execution_count": 15,
   "id": "7a17e67a",
   "metadata": {
    "execution": {
     "iopub.execute_input": "2022-06-13T05:46:25.553867Z",
     "iopub.status.busy": "2022-06-13T05:46:25.553426Z",
     "iopub.status.idle": "2022-06-13T05:46:25.557935Z",
     "shell.execute_reply": "2022-06-13T05:46:25.556860Z"
    },
    "papermill": {
     "duration": 0.01928,
     "end_time": "2022-06-13T05:46:25.559735",
     "exception": false,
     "start_time": "2022-06-13T05:46:25.540455",
     "status": "completed"
    },
    "tags": []
   },
   "outputs": [],
   "source": [
    "#Order\n",
    "d = {'0 - 1.99':'E', '2.00 - 2.49': 'D', '2.50 - 2.99':'C', '3.00 - 3.49':'B', '3.50 - 4.00': 'A'}"
   ]
  },
  {
   "cell_type": "code",
   "execution_count": 16,
   "id": "856631cf",
   "metadata": {
    "execution": {
     "iopub.execute_input": "2022-06-13T05:46:25.585466Z",
     "iopub.status.busy": "2022-06-13T05:46:25.584179Z",
     "iopub.status.idle": "2022-06-13T05:46:25.599903Z",
     "shell.execute_reply": "2022-06-13T05:46:25.599213Z"
    },
    "papermill": {
     "duration": 0.030118,
     "end_time": "2022-06-13T05:46:25.601511",
     "exception": false,
     "start_time": "2022-06-13T05:46:25.571393",
     "status": "completed"
    },
    "tags": []
   },
   "outputs": [
    {
     "data": {
      "text/html": [
       "<div>\n",
       "<style scoped>\n",
       "    .dataframe tbody tr th:only-of-type {\n",
       "        vertical-align: middle;\n",
       "    }\n",
       "\n",
       "    .dataframe tbody tr th {\n",
       "        vertical-align: top;\n",
       "    }\n",
       "\n",
       "    .dataframe thead th {\n",
       "        text-align: right;\n",
       "    }\n",
       "</style>\n",
       "<table border=\"1\" class=\"dataframe\">\n",
       "  <thead>\n",
       "    <tr style=\"text-align: right;\">\n",
       "      <th></th>\n",
       "      <th>Gender</th>\n",
       "      <th>Age</th>\n",
       "      <th>Course</th>\n",
       "      <th>Year Study</th>\n",
       "      <th>CGPA</th>\n",
       "      <th>Marital</th>\n",
       "      <th>Depression</th>\n",
       "      <th>Anxiety</th>\n",
       "      <th>Panic Attack</th>\n",
       "      <th>Treatment</th>\n",
       "    </tr>\n",
       "  </thead>\n",
       "  <tbody>\n",
       "    <tr>\n",
       "      <th>0</th>\n",
       "      <td>Female</td>\n",
       "      <td>18</td>\n",
       "      <td>Engineering</td>\n",
       "      <td>year 1</td>\n",
       "      <td>B</td>\n",
       "      <td>No</td>\n",
       "      <td>Yes</td>\n",
       "      <td>No</td>\n",
       "      <td>Yes</td>\n",
       "      <td>No</td>\n",
       "    </tr>\n",
       "    <tr>\n",
       "      <th>1</th>\n",
       "      <td>Male</td>\n",
       "      <td>21</td>\n",
       "      <td>Islamic education</td>\n",
       "      <td>year 2</td>\n",
       "      <td>B</td>\n",
       "      <td>No</td>\n",
       "      <td>No</td>\n",
       "      <td>Yes</td>\n",
       "      <td>No</td>\n",
       "      <td>No</td>\n",
       "    </tr>\n",
       "    <tr>\n",
       "      <th>2</th>\n",
       "      <td>Male</td>\n",
       "      <td>19</td>\n",
       "      <td>BIT</td>\n",
       "      <td>Year 1</td>\n",
       "      <td>B</td>\n",
       "      <td>No</td>\n",
       "      <td>Yes</td>\n",
       "      <td>Yes</td>\n",
       "      <td>Yes</td>\n",
       "      <td>No</td>\n",
       "    </tr>\n",
       "    <tr>\n",
       "      <th>3</th>\n",
       "      <td>Female</td>\n",
       "      <td>22</td>\n",
       "      <td>Laws</td>\n",
       "      <td>year 3</td>\n",
       "      <td>B</td>\n",
       "      <td>Yes</td>\n",
       "      <td>Yes</td>\n",
       "      <td>No</td>\n",
       "      <td>No</td>\n",
       "      <td>No</td>\n",
       "    </tr>\n",
       "    <tr>\n",
       "      <th>4</th>\n",
       "      <td>Male</td>\n",
       "      <td>23</td>\n",
       "      <td>Mathemathics</td>\n",
       "      <td>year 4</td>\n",
       "      <td>B</td>\n",
       "      <td>No</td>\n",
       "      <td>No</td>\n",
       "      <td>No</td>\n",
       "      <td>No</td>\n",
       "      <td>No</td>\n",
       "    </tr>\n",
       "  </tbody>\n",
       "</table>\n",
       "</div>"
      ],
      "text/plain": [
       "   Gender  Age             Course Year Study CGPA Marital Depression Anxiety  \\\n",
       "0  Female   18        Engineering     year 1    B      No        Yes      No   \n",
       "1    Male   21  Islamic education     year 2    B      No         No     Yes   \n",
       "2    Male   19                BIT     Year 1    B      No        Yes     Yes   \n",
       "3  Female   22               Laws     year 3    B     Yes        Yes      No   \n",
       "4    Male   23       Mathemathics     year 4    B      No         No      No   \n",
       "\n",
       "  Panic Attack Treatment  \n",
       "0          Yes        No  \n",
       "1           No        No  \n",
       "2          Yes        No  \n",
       "3           No        No  \n",
       "4           No        No  "
      ]
     },
     "execution_count": 16,
     "metadata": {},
     "output_type": "execute_result"
    }
   ],
   "source": [
    "df['CGPA'] = df['CGPA'].apply(lambda x: d[x])\n",
    "df.head()"
   ]
  },
  {
   "cell_type": "code",
   "execution_count": 17,
   "id": "d24197c0",
   "metadata": {
    "execution": {
     "iopub.execute_input": "2022-06-13T05:46:25.626987Z",
     "iopub.status.busy": "2022-06-13T05:46:25.626009Z",
     "iopub.status.idle": "2022-06-13T05:46:25.641182Z",
     "shell.execute_reply": "2022-06-13T05:46:25.640464Z"
    },
    "papermill": {
     "duration": 0.02972,
     "end_time": "2022-06-13T05:46:25.642833",
     "exception": false,
     "start_time": "2022-06-13T05:46:25.613113",
     "status": "completed"
    },
    "tags": []
   },
   "outputs": [
    {
     "data": {
      "text/html": [
       "<div>\n",
       "<style scoped>\n",
       "    .dataframe tbody tr th:only-of-type {\n",
       "        vertical-align: middle;\n",
       "    }\n",
       "\n",
       "    .dataframe tbody tr th {\n",
       "        vertical-align: top;\n",
       "    }\n",
       "\n",
       "    .dataframe thead th {\n",
       "        text-align: right;\n",
       "    }\n",
       "</style>\n",
       "<table border=\"1\" class=\"dataframe\">\n",
       "  <thead>\n",
       "    <tr style=\"text-align: right;\">\n",
       "      <th></th>\n",
       "      <th>Gender</th>\n",
       "      <th>Age</th>\n",
       "      <th>Course</th>\n",
       "      <th>Year Study</th>\n",
       "      <th>CGPA</th>\n",
       "      <th>Marital</th>\n",
       "      <th>Depression</th>\n",
       "      <th>Anxiety</th>\n",
       "      <th>Panic Attack</th>\n",
       "      <th>Treatment</th>\n",
       "    </tr>\n",
       "  </thead>\n",
       "  <tbody>\n",
       "    <tr>\n",
       "      <th>0</th>\n",
       "      <td>Female</td>\n",
       "      <td>18</td>\n",
       "      <td>Engineering</td>\n",
       "      <td>year 1</td>\n",
       "      <td>B</td>\n",
       "      <td>0</td>\n",
       "      <td>1</td>\n",
       "      <td>0</td>\n",
       "      <td>1</td>\n",
       "      <td>0</td>\n",
       "    </tr>\n",
       "    <tr>\n",
       "      <th>1</th>\n",
       "      <td>Male</td>\n",
       "      <td>21</td>\n",
       "      <td>Islamic education</td>\n",
       "      <td>year 2</td>\n",
       "      <td>B</td>\n",
       "      <td>0</td>\n",
       "      <td>0</td>\n",
       "      <td>1</td>\n",
       "      <td>0</td>\n",
       "      <td>0</td>\n",
       "    </tr>\n",
       "    <tr>\n",
       "      <th>2</th>\n",
       "      <td>Male</td>\n",
       "      <td>19</td>\n",
       "      <td>BIT</td>\n",
       "      <td>Year 1</td>\n",
       "      <td>B</td>\n",
       "      <td>0</td>\n",
       "      <td>1</td>\n",
       "      <td>1</td>\n",
       "      <td>1</td>\n",
       "      <td>0</td>\n",
       "    </tr>\n",
       "    <tr>\n",
       "      <th>3</th>\n",
       "      <td>Female</td>\n",
       "      <td>22</td>\n",
       "      <td>Laws</td>\n",
       "      <td>year 3</td>\n",
       "      <td>B</td>\n",
       "      <td>1</td>\n",
       "      <td>1</td>\n",
       "      <td>0</td>\n",
       "      <td>0</td>\n",
       "      <td>0</td>\n",
       "    </tr>\n",
       "    <tr>\n",
       "      <th>4</th>\n",
       "      <td>Male</td>\n",
       "      <td>23</td>\n",
       "      <td>Mathemathics</td>\n",
       "      <td>year 4</td>\n",
       "      <td>B</td>\n",
       "      <td>0</td>\n",
       "      <td>0</td>\n",
       "      <td>0</td>\n",
       "      <td>0</td>\n",
       "      <td>0</td>\n",
       "    </tr>\n",
       "  </tbody>\n",
       "</table>\n",
       "</div>"
      ],
      "text/plain": [
       "   Gender  Age             Course Year Study CGPA  Marital  Depression  \\\n",
       "0  Female   18        Engineering     year 1    B        0           1   \n",
       "1    Male   21  Islamic education     year 2    B        0           0   \n",
       "2    Male   19                BIT     Year 1    B        0           1   \n",
       "3  Female   22               Laws     year 3    B        1           1   \n",
       "4    Male   23       Mathemathics     year 4    B        0           0   \n",
       "\n",
       "   Anxiety  Panic Attack  Treatment  \n",
       "0        0             1          0  \n",
       "1        1             0          0  \n",
       "2        1             1          0  \n",
       "3        0             0          0  \n",
       "4        0             0          0  "
      ]
     },
     "execution_count": 17,
     "metadata": {},
     "output_type": "execute_result"
    }
   ],
   "source": [
    "#Replacing variable Yes--1,No--0\n",
    "df.replace(('Yes','No'),(1,0),inplace=True)\n",
    "df.head()"
   ]
  },
  {
   "cell_type": "code",
   "execution_count": 18,
   "id": "70a860c1",
   "metadata": {
    "execution": {
     "iopub.execute_input": "2022-06-13T05:46:25.669324Z",
     "iopub.status.busy": "2022-06-13T05:46:25.668758Z",
     "iopub.status.idle": "2022-06-13T05:46:25.683393Z",
     "shell.execute_reply": "2022-06-13T05:46:25.682732Z"
    },
    "papermill": {
     "duration": 0.029782,
     "end_time": "2022-06-13T05:46:25.685106",
     "exception": false,
     "start_time": "2022-06-13T05:46:25.655324",
     "status": "completed"
    },
    "tags": []
   },
   "outputs": [
    {
     "data": {
      "text/html": [
       "<div>\n",
       "<style scoped>\n",
       "    .dataframe tbody tr th:only-of-type {\n",
       "        vertical-align: middle;\n",
       "    }\n",
       "\n",
       "    .dataframe tbody tr th {\n",
       "        vertical-align: top;\n",
       "    }\n",
       "\n",
       "    .dataframe thead th {\n",
       "        text-align: right;\n",
       "    }\n",
       "</style>\n",
       "<table border=\"1\" class=\"dataframe\">\n",
       "  <thead>\n",
       "    <tr style=\"text-align: right;\">\n",
       "      <th></th>\n",
       "      <th>Age</th>\n",
       "      <th>Marital</th>\n",
       "      <th>Depression</th>\n",
       "      <th>Anxiety</th>\n",
       "      <th>Panic Attack</th>\n",
       "      <th>Treatment</th>\n",
       "    </tr>\n",
       "  </thead>\n",
       "  <tbody>\n",
       "    <tr>\n",
       "      <th>Age</th>\n",
       "      <td>1.000000</td>\n",
       "      <td>0.105350</td>\n",
       "      <td>-0.070418</td>\n",
       "      <td>-0.091890</td>\n",
       "      <td>0.057072</td>\n",
       "      <td>0.048315</td>\n",
       "    </tr>\n",
       "    <tr>\n",
       "      <th>Marital</th>\n",
       "      <td>0.105350</td>\n",
       "      <td>1.000000</td>\n",
       "      <td>0.595784</td>\n",
       "      <td>0.092606</td>\n",
       "      <td>0.275909</td>\n",
       "      <td>0.349819</td>\n",
       "    </tr>\n",
       "    <tr>\n",
       "      <th>Depression</th>\n",
       "      <td>-0.070418</td>\n",
       "      <td>0.595784</td>\n",
       "      <td>1.000000</td>\n",
       "      <td>0.273764</td>\n",
       "      <td>0.246842</td>\n",
       "      <td>0.345105</td>\n",
       "    </tr>\n",
       "    <tr>\n",
       "      <th>Anxiety</th>\n",
       "      <td>-0.091890</td>\n",
       "      <td>0.092606</td>\n",
       "      <td>0.273764</td>\n",
       "      <td>1.000000</td>\n",
       "      <td>0.084478</td>\n",
       "      <td>0.086880</td>\n",
       "    </tr>\n",
       "    <tr>\n",
       "      <th>Panic Attack</th>\n",
       "      <td>0.057072</td>\n",
       "      <td>0.275909</td>\n",
       "      <td>0.246842</td>\n",
       "      <td>0.084478</td>\n",
       "      <td>1.000000</td>\n",
       "      <td>0.182145</td>\n",
       "    </tr>\n",
       "    <tr>\n",
       "      <th>Treatment</th>\n",
       "      <td>0.048315</td>\n",
       "      <td>0.349819</td>\n",
       "      <td>0.345105</td>\n",
       "      <td>0.086880</td>\n",
       "      <td>0.182145</td>\n",
       "      <td>1.000000</td>\n",
       "    </tr>\n",
       "  </tbody>\n",
       "</table>\n",
       "</div>"
      ],
      "text/plain": [
       "                   Age   Marital  Depression   Anxiety  Panic Attack  \\\n",
       "Age           1.000000  0.105350   -0.070418 -0.091890      0.057072   \n",
       "Marital       0.105350  1.000000    0.595784  0.092606      0.275909   \n",
       "Depression   -0.070418  0.595784    1.000000  0.273764      0.246842   \n",
       "Anxiety      -0.091890  0.092606    0.273764  1.000000      0.084478   \n",
       "Panic Attack  0.057072  0.275909    0.246842  0.084478      1.000000   \n",
       "Treatment     0.048315  0.349819    0.345105  0.086880      0.182145   \n",
       "\n",
       "              Treatment  \n",
       "Age            0.048315  \n",
       "Marital        0.349819  \n",
       "Depression     0.345105  \n",
       "Anxiety        0.086880  \n",
       "Panic Attack   0.182145  \n",
       "Treatment      1.000000  "
      ]
     },
     "execution_count": 18,
     "metadata": {},
     "output_type": "execute_result"
    }
   ],
   "source": [
    "df.corr()"
   ]
  },
  {
   "cell_type": "code",
   "execution_count": 19,
   "id": "3fa88849",
   "metadata": {
    "execution": {
     "iopub.execute_input": "2022-06-13T05:46:25.711630Z",
     "iopub.status.busy": "2022-06-13T05:46:25.710906Z",
     "iopub.status.idle": "2022-06-13T05:46:26.044176Z",
     "shell.execute_reply": "2022-06-13T05:46:26.043578Z"
    },
    "papermill": {
     "duration": 0.348781,
     "end_time": "2022-06-13T05:46:26.046331",
     "exception": false,
     "start_time": "2022-06-13T05:46:25.697550",
     "status": "completed"
    },
    "tags": []
   },
   "outputs": [
    {
     "data": {
      "text/plain": [
       "<AxesSubplot:>"
      ]
     },
     "execution_count": 19,
     "metadata": {},
     "output_type": "execute_result"
    },
    {
     "data": {
      "image/png": "[encoded data removed]",
      "text/plain": [
       "<Figure size 432x288 with 2 Axes>"
      ]
     },
     "metadata": {
      "needs_background": "light"
     },
     "output_type": "display_data"
    }
   ],
   "source": [
    "sns.heatmap(df.corr(),annot=True)#,vmin=-1,vmax=1) "
   ]
  },
  {
   "cell_type": "markdown",
   "id": "6df2f8de",
   "metadata": {
    "papermill": {
     "duration": 0.013361,
     "end_time": "2022-06-13T05:46:26.073848",
     "exception": false,
     "start_time": "2022-06-13T05:46:26.060487",
     "status": "completed"
    },
    "tags": []
   },
   "source": [
    "# Data Visualization"
   ]
  },
  {
   "cell_type": "code",
   "execution_count": 20,
   "id": "136f1004",
   "metadata": {
    "execution": {
     "iopub.execute_input": "2022-06-13T05:46:26.102874Z",
     "iopub.status.busy": "2022-06-13T05:46:26.102298Z",
     "iopub.status.idle": "2022-06-13T05:46:26.109163Z",
     "shell.execute_reply": "2022-06-13T05:46:26.108345Z"
    },
    "papermill": {
     "duration": 0.023759,
     "end_time": "2022-06-13T05:46:26.111034",
     "exception": false,
     "start_time": "2022-06-13T05:46:26.087275",
     "status": "completed"
    },
    "tags": []
   },
   "outputs": [
    {
     "data": {
      "text/plain": [
       "Female    75\n",
       "Male      26\n",
       "Name: Gender, dtype: int64"
      ]
     },
     "execution_count": 20,
     "metadata": {},
     "output_type": "execute_result"
    }
   ],
   "source": [
    "count = df['Gender'].value_counts()\n",
    "count"
   ]
  },
  {
   "cell_type": "code",
   "execution_count": 21,
   "id": "1a360435",
   "metadata": {
    "execution": {
     "iopub.execute_input": "2022-06-13T05:46:26.139803Z",
     "iopub.status.busy": "2022-06-13T05:46:26.139426Z",
     "iopub.status.idle": "2022-06-13T05:46:26.242731Z",
     "shell.execute_reply": "2022-06-13T05:46:26.241381Z"
    },
    "papermill": {
     "duration": 0.12023,
     "end_time": "2022-06-13T05:46:26.245088",
     "exception": false,
     "start_time": "2022-06-13T05:46:26.124858",
     "status": "completed"
    },
    "tags": []
   },
   "outputs": [
    {
     "data": {
      "image/png": "[encoded data removed]",
      "text/plain": [
       "<Figure size 432x288 with 1 Axes>"
      ]
     },
     "metadata": {},
     "output_type": "display_data"
    }
   ],
   "source": [
    "plt.pie(count,labels=df['Gender'].unique(),autopct=\"%1.1f%%\")\n",
    "circle = plt.Circle(xy = (0,0), radius = 0.4, color = 'white')\n",
    "plt.gcf()\n",
    "plt.gca().add_artist(circle)\n",
    "plt.title(\"Gender Distribution\")\n",
    "plt.show()"
   ]
  },
  {
   "cell_type": "code",
   "execution_count": 22,
   "id": "fea1ff00",
   "metadata": {
    "execution": {
     "iopub.execute_input": "2022-06-13T05:46:26.274776Z",
     "iopub.status.busy": "2022-06-13T05:46:26.273939Z",
     "iopub.status.idle": "2022-06-13T05:46:26.677445Z",
     "shell.execute_reply": "2022-06-13T05:46:26.676349Z"
    },
    "papermill": {
     "duration": 0.421827,
     "end_time": "2022-06-13T05:46:26.680575",
     "exception": false,
     "start_time": "2022-06-13T05:46:26.258748",
     "status": "completed"
    },
    "tags": []
   },
   "outputs": [
    {
     "data": {
      "text/plain": [
       "<AxesSubplot:xlabel='Panic Attack', ylabel='count'>"
      ]
     },
     "execution_count": 22,
     "metadata": {},
     "output_type": "execute_result"
    },
    {
     "data": {
      "image/png": "[encoded data removed]",
      "text/plain": [
       "<Figure size 1152x432 with 4 Axes>"
      ]
     },
     "metadata": {
      "needs_background": "light"
     },
     "output_type": "display_data"
    }
   ],
   "source": [
    "fig,ax = plt.subplots(1, 4, figsize=(16,6))\n",
    "sns.countplot(x='Depression', hue='Gender', \n",
    "              data=df,ax=ax[1])\n",
    "sns.countplot(x='Anxiety', hue='Gender', \n",
    "              data=df,ax=ax[2])\n",
    "sns.countplot(x='Panic Attack', hue='Gender', \n",
    "              data=df,ax=ax[3])"
   ]
  },
  {
   "cell_type": "code",
   "execution_count": 23,
   "id": "74b0dbbb",
   "metadata": {
    "execution": {
     "iopub.execute_input": "2022-06-13T05:46:26.712650Z",
     "iopub.status.busy": "2022-06-13T05:46:26.711421Z",
     "iopub.status.idle": "2022-06-13T05:46:26.715657Z",
     "shell.execute_reply": "2022-06-13T05:46:26.715027Z"
    },
    "papermill": {
     "duration": 0.02211,
     "end_time": "2022-06-13T05:46:26.717782",
     "exception": false,
     "start_time": "2022-06-13T05:46:26.695672",
     "status": "completed"
    },
    "tags": []
   },
   "outputs": [],
   "source": [
    "#Observation: Female ratio is higher in all the 3 categories "
   ]
  },
  {
   "cell_type": "code",
   "execution_count": 24,
   "id": "8585a92a",
   "metadata": {
    "execution": {
     "iopub.execute_input": "2022-06-13T05:46:26.747108Z",
     "iopub.status.busy": "2022-06-13T05:46:26.746100Z",
     "iopub.status.idle": "2022-06-13T05:46:26.878002Z",
     "shell.execute_reply": "2022-06-13T05:46:26.877217Z"
    },
    "papermill": {
     "duration": 0.149021,
     "end_time": "2022-06-13T05:46:26.880407",
     "exception": false,
     "start_time": "2022-06-13T05:46:26.731386",
     "status": "completed"
    },
    "tags": []
   },
   "outputs": [
    {
     "name": "stderr",
     "output_type": "stream",
     "text": [
      "/opt/conda/lib/python3.7/site-packages/seaborn/_decorators.py:43: FutureWarning: Pass the following variable as a keyword arg: x. From version 0.12, the only valid positional argument will be `data`, and passing other arguments without an explicit keyword will result in an error or misinterpretation.\n",
      "  FutureWarning\n"
     ]
    },
    {
     "data": {
      "text/plain": [
       "<AxesSubplot:xlabel='Age', ylabel='count'>"
      ]
     },
     "execution_count": 24,
     "metadata": {},
     "output_type": "execute_result"
    },
    {
     "data": {
      "image/png": "[encoded data removed]",
      "text/plain": [
       "<Figure size 432x288 with 1 Axes>"
      ]
     },
     "metadata": {
      "needs_background": "light"
     },
     "output_type": "display_data"
    }
   ],
   "source": [
    "sns.countplot(df['Age'])"
   ]
  },
  {
   "cell_type": "code",
   "execution_count": 25,
   "id": "1dd0be67",
   "metadata": {
    "execution": {
     "iopub.execute_input": "2022-06-13T05:46:26.910403Z",
     "iopub.status.busy": "2022-06-13T05:46:26.909980Z",
     "iopub.status.idle": "2022-06-13T05:46:26.914259Z",
     "shell.execute_reply": "2022-06-13T05:46:26.913283Z"
    },
    "papermill": {
     "duration": 0.021553,
     "end_time": "2022-06-13T05:46:26.916258",
     "exception": false,
     "start_time": "2022-06-13T05:46:26.894705",
     "status": "completed"
    },
    "tags": []
   },
   "outputs": [],
   "source": [
    "#Observation: Most of the students are of 18 Age"
   ]
  },
  {
   "cell_type": "code",
   "execution_count": 26,
   "id": "a7353f33",
   "metadata": {
    "execution": {
     "iopub.execute_input": "2022-06-13T05:46:26.945070Z",
     "iopub.status.busy": "2022-06-13T05:46:26.944682Z",
     "iopub.status.idle": "2022-06-13T05:46:26.948842Z",
     "shell.execute_reply": "2022-06-13T05:46:26.947876Z"
    },
    "papermill": {
     "duration": 0.020706,
     "end_time": "2022-06-13T05:46:26.950653",
     "exception": false,
     "start_time": "2022-06-13T05:46:26.929947",
     "status": "completed"
    },
    "tags": []
   },
   "outputs": [],
   "source": [
    "#Analysis on Course"
   ]
  },
  {
   "cell_type": "code",
   "execution_count": 27,
   "id": "cf82b162",
   "metadata": {
    "execution": {
     "iopub.execute_input": "2022-06-13T05:46:26.981078Z",
     "iopub.status.busy": "2022-06-13T05:46:26.980003Z",
     "iopub.status.idle": "2022-06-13T05:46:26.985360Z",
     "shell.execute_reply": "2022-06-13T05:46:26.983923Z"
    },
    "papermill": {
     "duration": 0.022897,
     "end_time": "2022-06-13T05:46:26.987618",
     "exception": false,
     "start_time": "2022-06-13T05:46:26.964721",
     "status": "completed"
    },
    "tags": []
   },
   "outputs": [],
   "source": [
    "#Finding which course has the maximum number of students affecting with panic attacks,depression & Anxiety"
   ]
  },
  {
   "cell_type": "code",
   "execution_count": 28,
   "id": "c319f9fc",
   "metadata": {
    "execution": {
     "iopub.execute_input": "2022-06-13T05:46:27.018773Z",
     "iopub.status.busy": "2022-06-13T05:46:27.018278Z",
     "iopub.status.idle": "2022-06-13T05:46:27.023212Z",
     "shell.execute_reply": "2022-06-13T05:46:27.022192Z"
    },
    "papermill": {
     "duration": 0.023427,
     "end_time": "2022-06-13T05:46:27.025168",
     "exception": false,
     "start_time": "2022-06-13T05:46:27.001741",
     "status": "completed"
    },
    "tags": []
   },
   "outputs": [],
   "source": [
    "cols = ['Depression','Anxiety','Panic Attack']"
   ]
  },
  {
   "cell_type": "code",
   "execution_count": 29,
   "id": "b1ba3f14",
   "metadata": {
    "execution": {
     "iopub.execute_input": "2022-06-13T05:46:27.054985Z",
     "iopub.status.busy": "2022-06-13T05:46:27.054534Z",
     "iopub.status.idle": "2022-06-13T05:46:27.065066Z",
     "shell.execute_reply": "2022-06-13T05:46:27.064116Z"
    },
    "papermill": {
     "duration": 0.028129,
     "end_time": "2022-06-13T05:46:27.067392",
     "exception": false,
     "start_time": "2022-06-13T05:46:27.039263",
     "status": "completed"
    },
    "tags": []
   },
   "outputs": [],
   "source": [
    "df2 = df[cols].groupby(df['Course']).sum().reset_index()"
   ]
  },
  {
   "cell_type": "code",
   "execution_count": 30,
   "id": "9ed60a7b",
   "metadata": {
    "execution": {
     "iopub.execute_input": "2022-06-13T05:46:27.097860Z",
     "iopub.status.busy": "2022-06-13T05:46:27.097401Z",
     "iopub.status.idle": "2022-06-13T05:46:27.853958Z",
     "shell.execute_reply": "2022-06-13T05:46:27.853000Z"
    },
    "papermill": {
     "duration": 0.774862,
     "end_time": "2022-06-13T05:46:27.856587",
     "exception": false,
     "start_time": "2022-06-13T05:46:27.081725",
     "status": "completed"
    },
    "tags": []
   },
   "outputs": [
    {
     "data": {
      "text/plain": [
       "<AxesSubplot:title={'center':'Stacked Bar Graph by dataframe'}, xlabel='Course'>"
      ]
     },
     "execution_count": 30,
     "metadata": {},
     "output_type": "execute_result"
    },
    {
     "data": {
      "text/plain": [
       "<Figure size 1080x360 with 0 Axes>"
      ]
     },
     "metadata": {},
     "output_type": "display_data"
    },
    {
     "data": {
      "image/png": "[encoded data removed]",
      "text/plain": [
       "<Figure size 2160x1080 with 1 Axes>"
      ]
     },
     "metadata": {
      "needs_background": "light"
     },
     "output_type": "display_data"
    }
   ],
   "source": [
    "plt.figure(figsize = (15,5))\n",
    "df2.plot(x='Course', kind='bar', stacked=True,\n",
    "        title='Stacked Bar Graph by dataframe',figsize=(30,15))"
   ]
  },
  {
   "cell_type": "code",
   "execution_count": 31,
   "id": "d95dea51",
   "metadata": {
    "execution": {
     "iopub.execute_input": "2022-06-13T05:46:27.888729Z",
     "iopub.status.busy": "2022-06-13T05:46:27.887598Z",
     "iopub.status.idle": "2022-06-13T05:46:27.891962Z",
     "shell.execute_reply": "2022-06-13T05:46:27.891322Z"
    },
    "papermill": {
     "duration": 0.022267,
     "end_time": "2022-06-13T05:46:27.893783",
     "exception": false,
     "start_time": "2022-06-13T05:46:27.871516",
     "status": "completed"
    },
    "tags": []
   },
   "outputs": [],
   "source": [
    "#Observation:Course name BIT has maximum students affecting with>>"
   ]
  },
  {
   "cell_type": "code",
   "execution_count": 32,
   "id": "f6d10a00",
   "metadata": {
    "execution": {
     "iopub.execute_input": "2022-06-13T05:46:27.927244Z",
     "iopub.status.busy": "2022-06-13T05:46:27.926355Z",
     "iopub.status.idle": "2022-06-13T05:46:27.931543Z",
     "shell.execute_reply": "2022-06-13T05:46:27.930291Z"
    },
    "papermill": {
     "duration": 0.023664,
     "end_time": "2022-06-13T05:46:27.933643",
     "exception": false,
     "start_time": "2022-06-13T05:46:27.909979",
     "status": "completed"
    },
    "tags": []
   },
   "outputs": [],
   "source": [
    "#Obsevation:Depression:Course Engineering has highest number of students having depresion"
   ]
  },
  {
   "cell_type": "code",
   "execution_count": 33,
   "id": "5d433685",
   "metadata": {
    "execution": {
     "iopub.execute_input": "2022-06-13T05:46:27.965211Z",
     "iopub.status.busy": "2022-06-13T05:46:27.964637Z",
     "iopub.status.idle": "2022-06-13T05:46:27.969619Z",
     "shell.execute_reply": "2022-06-13T05:46:27.968553Z"
    },
    "papermill": {
     "duration": 0.022959,
     "end_time": "2022-06-13T05:46:27.971518",
     "exception": false,
     "start_time": "2022-06-13T05:46:27.948559",
     "status": "completed"
    },
    "tags": []
   },
   "outputs": [],
   "source": [
    "#Obsevation:Depression:Course BIT has highest number of students havving anxiety."
   ]
  },
  {
   "cell_type": "code",
   "execution_count": 34,
   "id": "fb9e6cd8",
   "metadata": {
    "execution": {
     "iopub.execute_input": "2022-06-13T05:46:28.004264Z",
     "iopub.status.busy": "2022-06-13T05:46:28.003579Z",
     "iopub.status.idle": "2022-06-13T05:46:28.007127Z",
     "shell.execute_reply": "2022-06-13T05:46:28.006530Z"
    },
    "papermill": {
     "duration": 0.021991,
     "end_time": "2022-06-13T05:46:28.008842",
     "exception": false,
     "start_time": "2022-06-13T05:46:27.986851",
     "status": "completed"
    },
    "tags": []
   },
   "outputs": [],
   "source": [
    "#Obsevation:Depression:Course BCS & Engineering has highest number of students havving Panic Attack."
   ]
  },
  {
   "cell_type": "code",
   "execution_count": 35,
   "id": "71a0b5b1",
   "metadata": {
    "execution": {
     "iopub.execute_input": "2022-06-13T05:46:28.041064Z",
     "iopub.status.busy": "2022-06-13T05:46:28.040391Z",
     "iopub.status.idle": "2022-06-13T05:46:28.043854Z",
     "shell.execute_reply": "2022-06-13T05:46:28.043233Z"
    },
    "papermill": {
     "duration": 0.021837,
     "end_time": "2022-06-13T05:46:28.045563",
     "exception": false,
     "start_time": "2022-06-13T05:46:28.023726",
     "status": "completed"
    },
    "tags": []
   },
   "outputs": [],
   "source": [
    "#Year of Study"
   ]
  },
  {
   "cell_type": "code",
   "execution_count": 36,
   "id": "c07863e3",
   "metadata": {
    "execution": {
     "iopub.execute_input": "2022-06-13T05:46:28.077260Z",
     "iopub.status.busy": "2022-06-13T05:46:28.076586Z",
     "iopub.status.idle": "2022-06-13T05:46:28.084050Z",
     "shell.execute_reply": "2022-06-13T05:46:28.083380Z"
    },
    "papermill": {
     "duration": 0.025335,
     "end_time": "2022-06-13T05:46:28.085718",
     "exception": false,
     "start_time": "2022-06-13T05:46:28.060383",
     "status": "completed"
    },
    "tags": []
   },
   "outputs": [
    {
     "data": {
      "text/plain": [
       "year 1    41\n",
       "Year 3    19\n",
       "Year 2    16\n",
       "year 2    10\n",
       "year 4     8\n",
       "year 3     5\n",
       "Year 1     2\n",
       "Name: Year Study, dtype: int64"
      ]
     },
     "execution_count": 36,
     "metadata": {},
     "output_type": "execute_result"
    }
   ],
   "source": [
    "df['Year Study'].value_counts()"
   ]
  },
  {
   "cell_type": "code",
   "execution_count": 37,
   "id": "0a84d975",
   "metadata": {
    "execution": {
     "iopub.execute_input": "2022-06-13T05:46:28.118283Z",
     "iopub.status.busy": "2022-06-13T05:46:28.117573Z",
     "iopub.status.idle": "2022-06-13T05:46:28.125028Z",
     "shell.execute_reply": "2022-06-13T05:46:28.124367Z"
    },
    "papermill": {
     "duration": 0.026142,
     "end_time": "2022-06-13T05:46:28.126719",
     "exception": false,
     "start_time": "2022-06-13T05:46:28.100577",
     "status": "completed"
    },
    "tags": []
   },
   "outputs": [
    {
     "data": {
      "text/plain": [
       "array(['Year 1', 'Year 2', 'Year 3', 'Year 4'], dtype=object)"
      ]
     },
     "execution_count": 37,
     "metadata": {},
     "output_type": "execute_result"
    }
   ],
   "source": [
    "df['Year Study'].replace(['year 1','year 2','year 3','year 4'],['Year 1','Year 2','Year 3','Year 4'], inplace=True)\n",
    "df[\"Year Study\"].unique()"
   ]
  },
  {
   "cell_type": "code",
   "execution_count": 38,
   "id": "bcdeff31",
   "metadata": {
    "execution": {
     "iopub.execute_input": "2022-06-13T05:46:28.158697Z",
     "iopub.status.busy": "2022-06-13T05:46:28.157991Z",
     "iopub.status.idle": "2022-06-13T05:46:28.165638Z",
     "shell.execute_reply": "2022-06-13T05:46:28.164593Z"
    },
    "papermill": {
     "duration": 0.025838,
     "end_time": "2022-06-13T05:46:28.167586",
     "exception": false,
     "start_time": "2022-06-13T05:46:28.141748",
     "status": "completed"
    },
    "tags": []
   },
   "outputs": [
    {
     "data": {
      "text/plain": [
       "Year 1    43\n",
       "Year 2    26\n",
       "Year 3    24\n",
       "Year 4     8\n",
       "Name: Year Study, dtype: int64"
      ]
     },
     "execution_count": 38,
     "metadata": {},
     "output_type": "execute_result"
    }
   ],
   "source": [
    "df['Year Study'].value_counts()"
   ]
  },
  {
   "cell_type": "code",
   "execution_count": 39,
   "id": "6681f71e",
   "metadata": {
    "execution": {
     "iopub.execute_input": "2022-06-13T05:46:28.199949Z",
     "iopub.status.busy": "2022-06-13T05:46:28.199025Z",
     "iopub.status.idle": "2022-06-13T05:46:28.353698Z",
     "shell.execute_reply": "2022-06-13T05:46:28.352493Z"
    },
    "papermill": {
     "duration": 0.17288,
     "end_time": "2022-06-13T05:46:28.355547",
     "exception": false,
     "start_time": "2022-06-13T05:46:28.182667",
     "status": "completed"
    },
    "tags": []
   },
   "outputs": [
    {
     "name": "stderr",
     "output_type": "stream",
     "text": [
      "/opt/conda/lib/python3.7/site-packages/seaborn/_decorators.py:43: FutureWarning: Pass the following variable as a keyword arg: x. From version 0.12, the only valid positional argument will be `data`, and passing other arguments without an explicit keyword will result in an error or misinterpretation.\n",
      "  FutureWarning\n"
     ]
    },
    {
     "data": {
      "text/plain": [
       "<AxesSubplot:xlabel='Year Study', ylabel='count'>"
      ]
     },
     "execution_count": 39,
     "metadata": {},
     "output_type": "execute_result"
    },
    {
     "data": {
      "image/png": "[encoded data removed]",
      "text/plain": [
       "<Figure size 432x288 with 1 Axes>"
      ]
     },
     "metadata": {
      "needs_background": "light"
     },
     "output_type": "display_data"
    }
   ],
   "source": [
    "sns.countplot(df['Year Study'])"
   ]
  },
  {
   "cell_type": "code",
   "execution_count": 40,
   "id": "33defcb4",
   "metadata": {
    "execution": {
     "iopub.execute_input": "2022-06-13T05:46:28.390397Z",
     "iopub.status.busy": "2022-06-13T05:46:28.389083Z",
     "iopub.status.idle": "2022-06-13T05:46:28.394503Z",
     "shell.execute_reply": "2022-06-13T05:46:28.393731Z"
    },
    "papermill": {
     "duration": 0.025599,
     "end_time": "2022-06-13T05:46:28.396806",
     "exception": false,
     "start_time": "2022-06-13T05:46:28.371207",
     "status": "completed"
    },
    "tags": []
   },
   "outputs": [],
   "source": [
    "#Obesrvation: Maximum students are in 1st Year"
   ]
  },
  {
   "cell_type": "code",
   "execution_count": 41,
   "id": "005802b0",
   "metadata": {
    "execution": {
     "iopub.execute_input": "2022-06-13T05:46:28.432398Z",
     "iopub.status.busy": "2022-06-13T05:46:28.431227Z",
     "iopub.status.idle": "2022-06-13T05:46:28.633269Z",
     "shell.execute_reply": "2022-06-13T05:46:28.632108Z"
    },
    "papermill": {
     "duration": 0.221716,
     "end_time": "2022-06-13T05:46:28.635574",
     "exception": false,
     "start_time": "2022-06-13T05:46:28.413858",
     "status": "completed"
    },
    "tags": []
   },
   "outputs": [
    {
     "data": {
      "text/plain": [
       "<AxesSubplot:xlabel='Year Study', ylabel='count'>"
      ]
     },
     "execution_count": 41,
     "metadata": {},
     "output_type": "execute_result"
    },
    {
     "data": {
      "image/png": "[encoded data removed]",
      "text/plain": [
       "<Figure size 432x288 with 1 Axes>"
      ]
     },
     "metadata": {
      "needs_background": "light"
     },
     "output_type": "display_data"
    }
   ],
   "source": [
    "sns.countplot(x='Year Study',hue=\"Gender\",data=df)"
   ]
  },
  {
   "cell_type": "code",
   "execution_count": 42,
   "id": "fe049470",
   "metadata": {
    "execution": {
     "iopub.execute_input": "2022-06-13T05:46:28.670383Z",
     "iopub.status.busy": "2022-06-13T05:46:28.669935Z",
     "iopub.status.idle": "2022-06-13T05:46:28.675066Z",
     "shell.execute_reply": "2022-06-13T05:46:28.674322Z"
    },
    "papermill": {
     "duration": 0.024815,
     "end_time": "2022-06-13T05:46:28.676840",
     "exception": false,
     "start_time": "2022-06-13T05:46:28.652025",
     "status": "completed"
    },
    "tags": []
   },
   "outputs": [],
   "source": [
    "#CGPA "
   ]
  },
  {
   "cell_type": "code",
   "execution_count": 43,
   "id": "88caf6e9",
   "metadata": {
    "execution": {
     "iopub.execute_input": "2022-06-13T05:46:28.710992Z",
     "iopub.status.busy": "2022-06-13T05:46:28.710374Z",
     "iopub.status.idle": "2022-06-13T05:46:28.722024Z",
     "shell.execute_reply": "2022-06-13T05:46:28.721342Z"
    },
    "papermill": {
     "duration": 0.030976,
     "end_time": "2022-06-13T05:46:28.723842",
     "exception": false,
     "start_time": "2022-06-13T05:46:28.692866",
     "status": "completed"
    },
    "tags": []
   },
   "outputs": [
    {
     "data": {
      "text/html": [
       "<div>\n",
       "<style scoped>\n",
       "    .dataframe tbody tr th:only-of-type {\n",
       "        vertical-align: middle;\n",
       "    }\n",
       "\n",
       "    .dataframe tbody tr th {\n",
       "        vertical-align: top;\n",
       "    }\n",
       "\n",
       "    .dataframe thead th {\n",
       "        text-align: right;\n",
       "    }\n",
       "</style>\n",
       "<table border=\"1\" class=\"dataframe\">\n",
       "  <thead>\n",
       "    <tr style=\"text-align: right;\">\n",
       "      <th></th>\n",
       "      <th>CGPA</th>\n",
       "      <th>0</th>\n",
       "    </tr>\n",
       "  </thead>\n",
       "  <tbody>\n",
       "    <tr>\n",
       "      <th>0</th>\n",
       "      <td>A</td>\n",
       "      <td>48</td>\n",
       "    </tr>\n",
       "    <tr>\n",
       "      <th>1</th>\n",
       "      <td>B</td>\n",
       "      <td>43</td>\n",
       "    </tr>\n",
       "    <tr>\n",
       "      <th>2</th>\n",
       "      <td>C</td>\n",
       "      <td>4</td>\n",
       "    </tr>\n",
       "    <tr>\n",
       "      <th>3</th>\n",
       "      <td>E</td>\n",
       "      <td>4</td>\n",
       "    </tr>\n",
       "    <tr>\n",
       "      <th>4</th>\n",
       "      <td>D</td>\n",
       "      <td>2</td>\n",
       "    </tr>\n",
       "  </tbody>\n",
       "</table>\n",
       "</div>"
      ],
      "text/plain": [
       "  CGPA   0\n",
       "0    A  48\n",
       "1    B  43\n",
       "2    C   4\n",
       "3    E   4\n",
       "4    D   2"
      ]
     },
     "execution_count": 43,
     "metadata": {},
     "output_type": "execute_result"
    }
   ],
   "source": [
    "df[['CGPA']].value_counts().reset_index()"
   ]
  },
  {
   "cell_type": "code",
   "execution_count": 44,
   "id": "197aedca",
   "metadata": {
    "execution": {
     "iopub.execute_input": "2022-06-13T05:46:28.758371Z",
     "iopub.status.busy": "2022-06-13T05:46:28.757746Z",
     "iopub.status.idle": "2022-06-13T05:46:28.913242Z",
     "shell.execute_reply": "2022-06-13T05:46:28.912379Z"
    },
    "papermill": {
     "duration": 0.176245,
     "end_time": "2022-06-13T05:46:28.916495",
     "exception": false,
     "start_time": "2022-06-13T05:46:28.740250",
     "status": "completed"
    },
    "tags": []
   },
   "outputs": [
    {
     "name": "stderr",
     "output_type": "stream",
     "text": [
      "/opt/conda/lib/python3.7/site-packages/seaborn/_decorators.py:43: FutureWarning: Pass the following variable as a keyword arg: x. From version 0.12, the only valid positional argument will be `data`, and passing other arguments without an explicit keyword will result in an error or misinterpretation.\n",
      "  FutureWarning\n"
     ]
    },
    {
     "data": {
      "image/png": "[encoded data removed]",
      "text/plain": [
       "<Figure size 432x288 with 1 Axes>"
      ]
     },
     "metadata": {
      "needs_background": "light"
     },
     "output_type": "display_data"
    }
   ],
   "source": [
    "ax = sns.countplot(df['CGPA'].sort_values())"
   ]
  },
  {
   "cell_type": "code",
   "execution_count": 45,
   "id": "bc4e828c",
   "metadata": {
    "execution": {
     "iopub.execute_input": "2022-06-13T05:46:28.971408Z",
     "iopub.status.busy": "2022-06-13T05:46:28.970767Z",
     "iopub.status.idle": "2022-06-13T05:46:29.659370Z",
     "shell.execute_reply": "2022-06-13T05:46:29.658397Z"
    },
    "papermill": {
     "duration": 0.727564,
     "end_time": "2022-06-13T05:46:29.661569",
     "exception": false,
     "start_time": "2022-06-13T05:46:28.934005",
     "status": "completed"
    },
    "tags": []
   },
   "outputs": [
    {
     "data": {
      "text/plain": [
       "<AxesSubplot:xlabel='count', ylabel='Panic Attack'>"
      ]
     },
     "execution_count": 45,
     "metadata": {},
     "output_type": "execute_result"
    },
    {
     "data": {
      "image/png": "[encoded data removed]",
      "text/plain": [
       "<Figure size 1152x432 with 4 Axes>"
      ]
     },
     "metadata": {
      "needs_background": "light"
     },
     "output_type": "display_data"
    }
   ],
   "source": [
    "fig,ax = plt.subplots(1, 4, figsize=(16,6))\n",
    "sns.countplot(y='Depression', hue='CGPA', \n",
    "              data=df,ax=ax[1])\n",
    "sns.countplot(y='Anxiety', hue='CGPA', \n",
    "              data=df,ax=ax[2])\n",
    "sns.countplot(y='Panic Attack', hue='CGPA', \n",
    "              data=df,ax=ax[3])"
   ]
  },
  {
   "cell_type": "code",
   "execution_count": 46,
   "id": "04b63c97",
   "metadata": {
    "execution": {
     "iopub.execute_input": "2022-06-13T05:46:29.697432Z",
     "iopub.status.busy": "2022-06-13T05:46:29.696835Z",
     "iopub.status.idle": "2022-06-13T05:46:29.700241Z",
     "shell.execute_reply": "2022-06-13T05:46:29.699622Z"
    },
    "papermill": {
     "duration": 0.023891,
     "end_time": "2022-06-13T05:46:29.702009",
     "exception": false,
     "start_time": "2022-06-13T05:46:29.678118",
     "status": "completed"
    },
    "tags": []
   },
   "outputs": [],
   "source": [
    "#Obeservation: Depression: Grade B students have highest number of Depresssion"
   ]
  },
  {
   "cell_type": "code",
   "execution_count": 47,
   "id": "b7cd5a57",
   "metadata": {
    "execution": {
     "iopub.execute_input": "2022-06-13T05:46:29.737590Z",
     "iopub.status.busy": "2022-06-13T05:46:29.736970Z",
     "iopub.status.idle": "2022-06-13T05:46:29.740580Z",
     "shell.execute_reply": "2022-06-13T05:46:29.739865Z"
    },
    "papermill": {
     "duration": 0.023485,
     "end_time": "2022-06-13T05:46:29.742248",
     "exception": false,
     "start_time": "2022-06-13T05:46:29.718763",
     "status": "completed"
    },
    "tags": []
   },
   "outputs": [],
   "source": [
    "#Obeservation: Depression: Grade A students have highest number of Anxiety & Panic Attack"
   ]
  },
  {
   "cell_type": "code",
   "execution_count": 48,
   "id": "fa0660ae",
   "metadata": {
    "execution": {
     "iopub.execute_input": "2022-06-13T05:46:29.778574Z",
     "iopub.status.busy": "2022-06-13T05:46:29.778125Z",
     "iopub.status.idle": "2022-06-13T05:46:29.782436Z",
     "shell.execute_reply": "2022-06-13T05:46:29.781288Z"
    },
    "papermill": {
     "duration": 0.025174,
     "end_time": "2022-06-13T05:46:29.784241",
     "exception": false,
     "start_time": "2022-06-13T05:46:29.759067",
     "status": "completed"
    },
    "tags": []
   },
   "outputs": [],
   "source": [
    "#Marital Status"
   ]
  },
  {
   "cell_type": "code",
   "execution_count": 49,
   "id": "866ba337",
   "metadata": {
    "execution": {
     "iopub.execute_input": "2022-06-13T05:46:29.819944Z",
     "iopub.status.busy": "2022-06-13T05:46:29.818842Z",
     "iopub.status.idle": "2022-06-13T05:46:29.826604Z",
     "shell.execute_reply": "2022-06-13T05:46:29.825597Z"
    },
    "papermill": {
     "duration": 0.027737,
     "end_time": "2022-06-13T05:46:29.828378",
     "exception": false,
     "start_time": "2022-06-13T05:46:29.800641",
     "status": "completed"
    },
    "tags": []
   },
   "outputs": [
    {
     "data": {
      "text/plain": [
       "0    85\n",
       "1    16\n",
       "Name: Marital, dtype: int64"
      ]
     },
     "execution_count": 49,
     "metadata": {},
     "output_type": "execute_result"
    }
   ],
   "source": [
    "df['Marital'].value_counts()"
   ]
  },
  {
   "cell_type": "code",
   "execution_count": 50,
   "id": "d05af63e",
   "metadata": {
    "execution": {
     "iopub.execute_input": "2022-06-13T05:46:29.863594Z",
     "iopub.status.busy": "2022-06-13T05:46:29.862957Z",
     "iopub.status.idle": "2022-06-13T05:46:29.952714Z",
     "shell.execute_reply": "2022-06-13T05:46:29.950921Z"
    },
    "papermill": {
     "duration": 0.11244,
     "end_time": "2022-06-13T05:46:29.957315",
     "exception": false,
     "start_time": "2022-06-13T05:46:29.844875",
     "status": "completed"
    },
    "tags": []
   },
   "outputs": [
    {
     "data": {
      "text/plain": [
       "Text(0.5, 1.0, 'Marital Status')"
      ]
     },
     "execution_count": 50,
     "metadata": {},
     "output_type": "execute_result"
    },
    {
     "data": {
      "image/png": "[encoded data removed]",
      "text/plain": [
       "<Figure size 432x288 with 1 Axes>"
      ]
     },
     "metadata": {},
     "output_type": "display_data"
    }
   ],
   "source": [
    "mylabels = [\"No\",\"Yes\"]\n",
    "myexplode = (0.025,0.025)\n",
    "plt.pie(df['Marital'].value_counts(),autopct=\"%1.1f%%\",labels=mylabels,explode = myexplode)\n",
    "plt.title(\"Marital Status\")"
   ]
  },
  {
   "cell_type": "code",
   "execution_count": 51,
   "id": "a1cba0f1",
   "metadata": {
    "execution": {
     "iopub.execute_input": "2022-06-13T05:46:30.033034Z",
     "iopub.status.busy": "2022-06-13T05:46:30.032036Z",
     "iopub.status.idle": "2022-06-13T05:46:30.037504Z",
     "shell.execute_reply": "2022-06-13T05:46:30.036348Z"
    },
    "papermill": {
     "duration": 0.047028,
     "end_time": "2022-06-13T05:46:30.040472",
     "exception": false,
     "start_time": "2022-06-13T05:46:29.993444",
     "status": "completed"
    },
    "tags": []
   },
   "outputs": [],
   "source": [
    "#Observation: Out of total students 15.8% are married."
   ]
  },
  {
   "cell_type": "code",
   "execution_count": 52,
   "id": "e9364058",
   "metadata": {
    "execution": {
     "iopub.execute_input": "2022-06-13T05:46:30.079286Z",
     "iopub.status.busy": "2022-06-13T05:46:30.078640Z",
     "iopub.status.idle": "2022-06-13T05:46:30.082096Z",
     "shell.execute_reply": "2022-06-13T05:46:30.081461Z"
    },
    "papermill": {
     "duration": 0.024515,
     "end_time": "2022-06-13T05:46:30.083849",
     "exception": false,
     "start_time": "2022-06-13T05:46:30.059334",
     "status": "completed"
    },
    "tags": []
   },
   "outputs": [],
   "source": [
    "#Analysis on student mental health"
   ]
  },
  {
   "cell_type": "code",
   "execution_count": 53,
   "id": "82d5a648",
   "metadata": {
    "execution": {
     "iopub.execute_input": "2022-06-13T05:46:30.120615Z",
     "iopub.status.busy": "2022-06-13T05:46:30.120012Z",
     "iopub.status.idle": "2022-06-13T05:46:30.363920Z",
     "shell.execute_reply": "2022-06-13T05:46:30.362521Z"
    },
    "papermill": {
     "duration": 0.266221,
     "end_time": "2022-06-13T05:46:30.367605",
     "exception": false,
     "start_time": "2022-06-13T05:46:30.101384",
     "status": "completed"
    },
    "tags": []
   },
   "outputs": [
    {
     "data": {
      "image/png": "[encoded data removed]",
      "text/plain": [
       "<Figure size 1440x1080 with 3 Axes>"
      ]
     },
     "metadata": {},
     "output_type": "display_data"
    }
   ],
   "source": [
    "myexplode = (0.025,0.025)\n",
    "labels1 = [\"No Depression\",\"Depression\"]\n",
    "labels2 = [\"No Anxiety\",\"Anxiety\"]\n",
    "labels3 = [\"No Panic Attack\",\"Panic Attack\"]\n",
    "fig, (ax1, ax2, ax3) = plt.subplots(1,3,figsize = (20,15))\n",
    "ax1.pie(df['Depression'].value_counts(),autopct=\"%1.1f%%\",labels=labels1,explode = myexplode)\n",
    "ax2.pie(df['Anxiety'].value_counts(),autopct=\"%1.1f%%\",labels=labels2,explode = myexplode)\n",
    "ax3.pie(df['Panic Attack'].value_counts(),autopct=\"%1.1f%%\",labels=labels3,explode = myexplode)\n",
    "plt.show()"
   ]
  },
  {
   "cell_type": "code",
   "execution_count": 54,
   "id": "57dc8ccd",
   "metadata": {
    "execution": {
     "iopub.execute_input": "2022-06-13T05:46:30.423565Z",
     "iopub.status.busy": "2022-06-13T05:46:30.422159Z",
     "iopub.status.idle": "2022-06-13T05:46:30.427046Z",
     "shell.execute_reply": "2022-06-13T05:46:30.426233Z"
    },
    "papermill": {
     "duration": 0.035702,
     "end_time": "2022-06-13T05:46:30.438524",
     "exception": false,
     "start_time": "2022-06-13T05:46:30.402822",
     "status": "completed"
    },
    "tags": []
   },
   "outputs": [],
   "source": [
    "#Students who did and didn't seek treatment"
   ]
  },
  {
   "cell_type": "code",
   "execution_count": 55,
   "id": "8bd67d9c",
   "metadata": {
    "execution": {
     "iopub.execute_input": "2022-06-13T05:46:30.478145Z",
     "iopub.status.busy": "2022-06-13T05:46:30.477777Z",
     "iopub.status.idle": "2022-06-13T05:46:30.482894Z",
     "shell.execute_reply": "2022-06-13T05:46:30.482252Z"
    },
    "papermill": {
     "duration": 0.026505,
     "end_time": "2022-06-13T05:46:30.484848",
     "exception": false,
     "start_time": "2022-06-13T05:46:30.458343",
     "status": "completed"
    },
    "tags": []
   },
   "outputs": [],
   "source": [
    "y = df['Treatment'].value_counts()"
   ]
  },
  {
   "cell_type": "code",
   "execution_count": 56,
   "id": "0c192c9a",
   "metadata": {
    "execution": {
     "iopub.execute_input": "2022-06-13T05:46:30.524896Z",
     "iopub.status.busy": "2022-06-13T05:46:30.524136Z",
     "iopub.status.idle": "2022-06-13T05:46:30.647182Z",
     "shell.execute_reply": "2022-06-13T05:46:30.646056Z"
    },
    "papermill": {
     "duration": 0.14536,
     "end_time": "2022-06-13T05:46:30.649960",
     "exception": false,
     "start_time": "2022-06-13T05:46:30.504600",
     "status": "completed"
    },
    "tags": []
   },
   "outputs": [
    {
     "data": {
      "image/png": "[encoded data removed]",
      "text/plain": [
       "<Figure size 432x288 with 1 Axes>"
      ]
     },
     "metadata": {},
     "output_type": "display_data"
    }
   ],
   "source": [
    "names = [\"NO\",\"YES\"]\n",
    "my_circle = plt.Circle((0, 0), 0.8, color='white')\n",
    "plt.pie(y,labels=names,autopct=\"%1.1f%%\")\n",
    "p = plt.gcf()\n",
    "p.gca().add_artist(my_circle)\n",
    "plt.title('Did you seek treatment?')\n",
    "plt.show()"
   ]
  },
  {
   "cell_type": "code",
   "execution_count": 57,
   "id": "46e61d5b",
   "metadata": {
    "execution": {
     "iopub.execute_input": "2022-06-13T05:46:30.714273Z",
     "iopub.status.busy": "2022-06-13T05:46:30.713590Z",
     "iopub.status.idle": "2022-06-13T05:46:30.719445Z",
     "shell.execute_reply": "2022-06-13T05:46:30.718345Z"
    },
    "papermill": {
     "duration": 0.04388,
     "end_time": "2022-06-13T05:46:30.724847",
     "exception": false,
     "start_time": "2022-06-13T05:46:30.680967",
     "status": "completed"
    },
    "tags": []
   },
   "outputs": [],
   "source": [
    "#Observation: 5.9% students did seek for treatment where as a huge percentage of majority didn't"
   ]
  }
 ],
 "metadata": {
  "kernelspec": {
   "display_name": "Python 3",
   "language": "python",
   "name": "python3"
  },
  "language_info": {
   "codemirror_mode": {
    "name": "ipython",
    "version": 3
   },
   "file_extension": ".py",
   "mimetype": "text/x-python",
   "name": "python",
   "nbconvert_exporter": "python",
   "pygments_lexer": "ipython3",
   "version": "3.7.12"
  },
  "papermill": {
   "default_parameters": {},
   "duration": 16.825735,
   "end_time": "2022-06-13T05:46:31.780062",
   "environment_variables": {},
   "exception": null,
   "input_path": "__notebook__.ipynb",
   "output_path": "__notebook__.ipynb",
   "parameters": {},
   "start_time": "2022-06-13T05:46:14.954327",
   "version": "2.3.4"
  }
 },
 "nbformat": 4,
 "nbformat_minor": 5
}
